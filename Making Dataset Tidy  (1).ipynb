{
 "cells": [
  {
   "cell_type": "markdown",
   "metadata": {},
   "source": [
    "### Loading AirBnb dataset from Srilanka"
   ]
  },
  {
   "cell_type": "code",
   "execution_count": 1,
   "metadata": {
    "ExecuteTime": {
     "end_time": "2020-12-09T06:43:28.206606Z",
     "start_time": "2020-12-09T06:43:26.680828Z"
    }
   },
   "outputs": [
    {
     "data": {
      "text/html": [
       "<div>\n",
       "<style scoped>\n",
       "    .dataframe tbody tr th:only-of-type {\n",
       "        vertical-align: middle;\n",
       "    }\n",
       "\n",
       "    .dataframe tbody tr th {\n",
       "        vertical-align: top;\n",
       "    }\n",
       "\n",
       "    .dataframe thead th {\n",
       "        text-align: right;\n",
       "    }\n",
       "</style>\n",
       "<table border=\"1\" class=\"dataframe\">\n",
       "  <thead>\n",
       "    <tr style=\"text-align: right;\">\n",
       "      <th></th>\n",
       "      <th>room_id</th>\n",
       "      <th>survey_id</th>\n",
       "      <th>host_id</th>\n",
       "      <th>room_type</th>\n",
       "      <th>country</th>\n",
       "      <th>city</th>\n",
       "      <th>borough</th>\n",
       "      <th>neighborhood</th>\n",
       "      <th>reviews</th>\n",
       "      <th>overall_satisfaction</th>\n",
       "      <th>accommodates</th>\n",
       "      <th>bedrooms</th>\n",
       "      <th>bathrooms</th>\n",
       "      <th>price</th>\n",
       "      <th>minstay</th>\n",
       "      <th>last_modified</th>\n",
       "      <th>latitude</th>\n",
       "      <th>longitude</th>\n",
       "      <th>location</th>\n",
       "    </tr>\n",
       "  </thead>\n",
       "  <tbody>\n",
       "    <tr>\n",
       "      <td>0</td>\n",
       "      <td>14578917</td>\n",
       "      <td>1174</td>\n",
       "      <td>72397041</td>\n",
       "      <td>Shared room</td>\n",
       "      <td>NaN</td>\n",
       "      <td>Sri Lanka</td>\n",
       "      <td>Kandy</td>\n",
       "      <td>K.F.G. &amp; G. Korale</td>\n",
       "      <td>0</td>\n",
       "      <td>NaN</td>\n",
       "      <td>1</td>\n",
       "      <td>1.0</td>\n",
       "      <td>NaN</td>\n",
       "      <td>12.0</td>\n",
       "      <td>NaN</td>\n",
       "      <td>2017-04-28 14:01:47.949839</td>\n",
       "      <td>7.292193</td>\n",
       "      <td>80.631460</td>\n",
       "      <td>0101000020E6100000DC2E34D769285440037B4CA4342B...</td>\n",
       "    </tr>\n",
       "    <tr>\n",
       "      <td>1</td>\n",
       "      <td>18342790</td>\n",
       "      <td>1174</td>\n",
       "      <td>39132047</td>\n",
       "      <td>Shared room</td>\n",
       "      <td>NaN</td>\n",
       "      <td>Sri Lanka</td>\n",
       "      <td>Gampaha</td>\n",
       "      <td>Ja-Ela</td>\n",
       "      <td>0</td>\n",
       "      <td>NaN</td>\n",
       "      <td>1</td>\n",
       "      <td>1.0</td>\n",
       "      <td>NaN</td>\n",
       "      <td>10.0</td>\n",
       "      <td>NaN</td>\n",
       "      <td>2017-04-28 14:01:47.955226</td>\n",
       "      <td>7.075855</td>\n",
       "      <td>79.929256</td>\n",
       "      <td>0101000020E6100000276728EE78FB5340CBF3E0EEAC4D...</td>\n",
       "    </tr>\n",
       "    <tr>\n",
       "      <td>2</td>\n",
       "      <td>13481138</td>\n",
       "      <td>1174</td>\n",
       "      <td>76678139</td>\n",
       "      <td>Shared room</td>\n",
       "      <td>NaN</td>\n",
       "      <td>Sri Lanka</td>\n",
       "      <td>Matale</td>\n",
       "      <td>Dambulla</td>\n",
       "      <td>0</td>\n",
       "      <td>NaN</td>\n",
       "      <td>2</td>\n",
       "      <td>1.0</td>\n",
       "      <td>NaN</td>\n",
       "      <td>20.0</td>\n",
       "      <td>NaN</td>\n",
       "      <td>2017-04-28 14:01:47.957538</td>\n",
       "      <td>7.881763</td>\n",
       "      <td>80.645547</td>\n",
       "      <td>0101000020E6100000FA415DA450295440994A3FE1EC86...</td>\n",
       "    </tr>\n",
       "    <tr>\n",
       "      <td>3</td>\n",
       "      <td>15857437</td>\n",
       "      <td>1174</td>\n",
       "      <td>72397041</td>\n",
       "      <td>Shared room</td>\n",
       "      <td>NaN</td>\n",
       "      <td>Sri Lanka</td>\n",
       "      <td>Kandy</td>\n",
       "      <td>K.F.G. &amp; G. Korale</td>\n",
       "      <td>2</td>\n",
       "      <td>NaN</td>\n",
       "      <td>1</td>\n",
       "      <td>1.0</td>\n",
       "      <td>NaN</td>\n",
       "      <td>10.0</td>\n",
       "      <td>NaN</td>\n",
       "      <td>2017-04-28 14:01:47.960416</td>\n",
       "      <td>7.289705</td>\n",
       "      <td>80.628771</td>\n",
       "      <td>0101000020E6100000166BB8C83D28544062F3716DA828...</td>\n",
       "    </tr>\n",
       "    <tr>\n",
       "      <td>4</td>\n",
       "      <td>12002059</td>\n",
       "      <td>1174</td>\n",
       "      <td>64042382</td>\n",
       "      <td>Shared room</td>\n",
       "      <td>NaN</td>\n",
       "      <td>Sri Lanka</td>\n",
       "      <td>Kandy</td>\n",
       "      <td>K.F.G. &amp; G. Korale</td>\n",
       "      <td>1</td>\n",
       "      <td>NaN</td>\n",
       "      <td>1</td>\n",
       "      <td>1.0</td>\n",
       "      <td>NaN</td>\n",
       "      <td>11.0</td>\n",
       "      <td>NaN</td>\n",
       "      <td>2017-04-28 14:01:47.963951</td>\n",
       "      <td>7.290405</td>\n",
       "      <td>80.655338</td>\n",
       "      <td>0101000020E6100000DE74CB0EF12954402861A6ED5F29...</td>\n",
       "    </tr>\n",
       "  </tbody>\n",
       "</table>\n",
       "</div>"
      ],
      "text/plain": [
       "    room_id  survey_id   host_id    room_type  country       city  borough  \\\n",
       "0  14578917       1174  72397041  Shared room      NaN  Sri Lanka    Kandy   \n",
       "1  18342790       1174  39132047  Shared room      NaN  Sri Lanka  Gampaha   \n",
       "2  13481138       1174  76678139  Shared room      NaN  Sri Lanka   Matale   \n",
       "3  15857437       1174  72397041  Shared room      NaN  Sri Lanka    Kandy   \n",
       "4  12002059       1174  64042382  Shared room      NaN  Sri Lanka    Kandy   \n",
       "\n",
       "         neighborhood  reviews  overall_satisfaction  accommodates  bedrooms  \\\n",
       "0  K.F.G. & G. Korale        0                   NaN             1       1.0   \n",
       "1              Ja-Ela        0                   NaN             1       1.0   \n",
       "2            Dambulla        0                   NaN             2       1.0   \n",
       "3  K.F.G. & G. Korale        2                   NaN             1       1.0   \n",
       "4  K.F.G. & G. Korale        1                   NaN             1       1.0   \n",
       "\n",
       "   bathrooms  price  minstay               last_modified  latitude  longitude  \\\n",
       "0        NaN   12.0      NaN  2017-04-28 14:01:47.949839  7.292193  80.631460   \n",
       "1        NaN   10.0      NaN  2017-04-28 14:01:47.955226  7.075855  79.929256   \n",
       "2        NaN   20.0      NaN  2017-04-28 14:01:47.957538  7.881763  80.645547   \n",
       "3        NaN   10.0      NaN  2017-04-28 14:01:47.960416  7.289705  80.628771   \n",
       "4        NaN   11.0      NaN  2017-04-28 14:01:47.963951  7.290405  80.655338   \n",
       "\n",
       "                                            location  \n",
       "0  0101000020E6100000DC2E34D769285440037B4CA4342B...  \n",
       "1  0101000020E6100000276728EE78FB5340CBF3E0EEAC4D...  \n",
       "2  0101000020E6100000FA415DA450295440994A3FE1EC86...  \n",
       "3  0101000020E6100000166BB8C83D28544062F3716DA828...  \n",
       "4  0101000020E6100000DE74CB0EF12954402861A6ED5F29...  "
      ]
     },
     "execution_count": 1,
     "metadata": {},
     "output_type": "execute_result"
    }
   ],
   "source": [
    "#importing pandas library\n",
    "import pandas as pd\n",
    "\n",
    "#reading the dataset\n",
    "df_1=pd.read_csv(\"tomslee_airbnb_sri_lanka_1174_2017-04-28.csv\")\n",
    "\n",
    "#showing first 5 rows of the dataset\n",
    "df_1.head()\n",
    "\n"
   ]
  },
  {
   "cell_type": "code",
   "execution_count": 2,
   "metadata": {
    "ExecuteTime": {
     "end_time": "2020-12-09T06:43:28.220597Z",
     "start_time": "2020-12-09T06:43:28.210602Z"
    }
   },
   "outputs": [
    {
     "name": "stdout",
     "output_type": "stream",
     "text": [
      "number of columns in original dataset:  19\n"
     ]
    }
   ],
   "source": [
    "#printing number of columns in the original dataset\n",
    "print('number of columns in original dataset: ',len(df_1.columns))"
   ]
  },
  {
   "cell_type": "code",
   "execution_count": 3,
   "metadata": {
    "ExecuteTime": {
     "end_time": "2020-12-09T06:43:28.369671Z",
     "start_time": "2020-12-09T06:43:28.225595Z"
    }
   },
   "outputs": [
    {
     "data": {
      "text/plain": [
       "(11568, 19)"
      ]
     },
     "execution_count": 3,
     "metadata": {},
     "output_type": "execute_result"
    }
   ],
   "source": [
    "#printing rows and columns of original dataset\n",
    "df_1.shape"
   ]
  },
  {
   "cell_type": "markdown",
   "metadata": {},
   "source": [
    "**- the dataset has 11568 rows(instances) and 19 columns(attribiutes)**\n",
    "\n",
    "\n",
    "\n",
    "**- now we will check how many NaN values in each attributes**\n",
    "\n",
    "\n",
    "\n",
    "**- ['country'] ['bathrooms'] ['minstay'] has only NaN values.**"
   ]
  },
  {
   "cell_type": "code",
   "execution_count": 4,
   "metadata": {
    "ExecuteTime": {
     "end_time": "2020-12-09T06:43:28.520665Z",
     "start_time": "2020-12-09T06:43:28.382660Z"
    }
   },
   "outputs": [
    {
     "name": "stdout",
     "output_type": "stream",
     "text": [
      "<class 'pandas.core.frame.DataFrame'>\n",
      "RangeIndex: 11568 entries, 0 to 11567\n",
      "Data columns (total 19 columns):\n",
      "room_id                 11568 non-null int64\n",
      "survey_id               11568 non-null int64\n",
      "host_id                 11568 non-null int64\n",
      "room_type               11568 non-null object\n",
      "country                 0 non-null float64\n",
      "city                    11568 non-null object\n",
      "borough                 11568 non-null object\n",
      "neighborhood            11568 non-null object\n",
      "reviews                 11568 non-null int64\n",
      "overall_satisfaction    2557 non-null float64\n",
      "accommodates            11568 non-null int64\n",
      "bedrooms                11568 non-null float64\n",
      "bathrooms               0 non-null float64\n",
      "price                   11568 non-null float64\n",
      "minstay                 0 non-null float64\n",
      "last_modified           11568 non-null object\n",
      "latitude                11568 non-null float64\n",
      "longitude               11568 non-null float64\n",
      "location                11568 non-null object\n",
      "dtypes: float64(8), int64(5), object(6)\n",
      "memory usage: 1.7+ MB\n"
     ]
    }
   ],
   "source": [
    "# dataset info gives us number of values in the each column and also indicates if there is any column of only missing values\n",
    "df_1.info()"
   ]
  },
  {
   "cell_type": "code",
   "execution_count": 5,
   "metadata": {
    "ExecuteTime": {
     "end_time": "2020-12-09T06:43:28.774517Z",
     "start_time": "2020-12-09T06:43:28.524660Z"
    }
   },
   "outputs": [
    {
     "data": {
      "text/plain": [
       "room_id                     0\n",
       "survey_id                   0\n",
       "host_id                     0\n",
       "room_type                   0\n",
       "country                 11568\n",
       "city                        0\n",
       "borough                     0\n",
       "neighborhood                0\n",
       "reviews                     0\n",
       "overall_satisfaction     9011\n",
       "accommodates                0\n",
       "bedrooms                    0\n",
       "bathrooms               11568\n",
       "price                       0\n",
       "minstay                 11568\n",
       "last_modified               0\n",
       "latitude                    0\n",
       "longitude                   0\n",
       "location                    0\n",
       "dtype: int64"
      ]
     },
     "execution_count": 5,
     "metadata": {},
     "output_type": "execute_result"
    }
   ],
   "source": [
    "# number of missing values in each column. country,bathrooms and minstay columns have only missing values and overall_satisfaction has 9011 missing values\n",
    "df_1.isnull().sum()"
   ]
  },
  {
   "cell_type": "markdown",
   "metadata": {},
   "source": [
    "**- there are 9011 NaN values in overall_satisfaction. We can drop all the rows containing those NaN values.**\n",
    "\n",
    "\n",
    "\n",
    "**- country, bathrooms and minstay columns have only NaN values. So we can ignore/delete those three columns.**\n",
    "\n",
    "\n",
    "\n"
   ]
  },
  {
   "cell_type": "code",
   "execution_count": 6,
   "metadata": {
    "ExecuteTime": {
     "end_time": "2020-12-09T06:43:29.257340Z",
     "start_time": "2020-12-09T06:43:28.778515Z"
    }
   },
   "outputs": [
    {
     "data": {
      "text/plain": [
       "array(['Sri Lanka'], dtype=object)"
      ]
     },
     "execution_count": 6,
     "metadata": {},
     "output_type": "execute_result"
    }
   ],
   "source": [
    "# unique value of city column shows that it has only one value which is Srilanka\n",
    "df_1['city'].unique()"
   ]
  },
  {
   "cell_type": "code",
   "execution_count": 7,
   "metadata": {
    "ExecuteTime": {
     "end_time": "2020-12-09T06:43:29.408384Z",
     "start_time": "2020-12-09T06:43:29.270326Z"
    }
   },
   "outputs": [
    {
     "data": {
      "text/plain": [
       "array([1174], dtype=int64)"
      ]
     },
     "execution_count": 7,
     "metadata": {},
     "output_type": "execute_result"
    }
   ],
   "source": [
    "## unique value of survey_id column shows that it has only one value which is 1174\n",
    "df_1['survey_id'].unique()"
   ]
  },
  {
   "cell_type": "markdown",
   "metadata": {
    "ExecuteTime": {
     "end_time": "2020-12-08T07:53:06.458633Z",
     "start_time": "2020-12-08T07:53:06.449642Z"
    }
   },
   "source": [
    "**- ['city'] has only one unique value. It is not city actually. It is country name. We can drop this column too.**\n",
    "\n",
    "\n",
    "\n",
    "**- ['survey_id'] has only one survey_id. So we can drop this column too.**"
   ]
  },
  {
   "cell_type": "code",
   "execution_count": 8,
   "metadata": {
    "ExecuteTime": {
     "end_time": "2020-12-09T06:43:29.594151Z",
     "start_time": "2020-12-09T06:43:29.414383Z"
    }
   },
   "outputs": [],
   "source": [
    "# cleaning the data with selecting columns that have  no missing values and ignoring some unnecessary columns and dropping rows that have nan values and reseting the index with drop \n",
    "df_1=df_1[['room_id',\n",
    "      'host_id',\n",
    "      'room_type',\n",
    "      'borough',\n",
    "      'neighborhood',\n",
    "      'reviews',\n",
    "      'overall_satisfaction',\n",
    "      'accommodates',\n",
    "      'bedrooms',\n",
    "      'last_modified',\n",
    "      'latitude',\n",
    "      'longitude', \n",
    "      'location',    \n",
    "      'price']].dropna().reset_index(drop = True)"
   ]
  },
  {
   "cell_type": "code",
   "execution_count": 9,
   "metadata": {
    "ExecuteTime": {
     "end_time": "2020-12-09T06:43:29.908368Z",
     "start_time": "2020-12-09T06:43:29.601144Z"
    }
   },
   "outputs": [
    {
     "data": {
      "text/html": [
       "<div>\n",
       "<style scoped>\n",
       "    .dataframe tbody tr th:only-of-type {\n",
       "        vertical-align: middle;\n",
       "    }\n",
       "\n",
       "    .dataframe tbody tr th {\n",
       "        vertical-align: top;\n",
       "    }\n",
       "\n",
       "    .dataframe thead th {\n",
       "        text-align: right;\n",
       "    }\n",
       "</style>\n",
       "<table border=\"1\" class=\"dataframe\">\n",
       "  <thead>\n",
       "    <tr style=\"text-align: right;\">\n",
       "      <th></th>\n",
       "      <th>room_id</th>\n",
       "      <th>host_id</th>\n",
       "      <th>room_type</th>\n",
       "      <th>borough</th>\n",
       "      <th>neighborhood</th>\n",
       "      <th>reviews</th>\n",
       "      <th>overall_satisfaction</th>\n",
       "      <th>accommodates</th>\n",
       "      <th>bedrooms</th>\n",
       "      <th>last_modified</th>\n",
       "      <th>latitude</th>\n",
       "      <th>longitude</th>\n",
       "      <th>location</th>\n",
       "      <th>price</th>\n",
       "    </tr>\n",
       "  </thead>\n",
       "  <tbody>\n",
       "    <tr>\n",
       "      <td>0</td>\n",
       "      <td>794866</td>\n",
       "      <td>2280409</td>\n",
       "      <td>Private room</td>\n",
       "      <td>Galle</td>\n",
       "      <td>Ambalangoda</td>\n",
       "      <td>5</td>\n",
       "      <td>4.5</td>\n",
       "      <td>9</td>\n",
       "      <td>1.0</td>\n",
       "      <td>2017-04-29 12:27:58.139205</td>\n",
       "      <td>6.230980</td>\n",
       "      <td>80.056247</td>\n",
       "      <td>0101000020E6100000E15F048D99035440CD1E680586EC...</td>\n",
       "      <td>300.0</td>\n",
       "    </tr>\n",
       "    <tr>\n",
       "      <td>1</td>\n",
       "      <td>16313193</td>\n",
       "      <td>106602376</td>\n",
       "      <td>Private room</td>\n",
       "      <td>Hambantota</td>\n",
       "      <td>Thissamaharama</td>\n",
       "      <td>3</td>\n",
       "      <td>5.0</td>\n",
       "      <td>3</td>\n",
       "      <td>1.0</td>\n",
       "      <td>2017-04-29 12:27:49.611334</td>\n",
       "      <td>6.267283</td>\n",
       "      <td>81.297854</td>\n",
       "      <td>0101000020E6100000E63E390A10535440691B7FA2B211...</td>\n",
       "      <td>180.0</td>\n",
       "    </tr>\n",
       "    <tr>\n",
       "      <td>2</td>\n",
       "      <td>4804124</td>\n",
       "      <td>2515276</td>\n",
       "      <td>Private room</td>\n",
       "      <td>Hambantota</td>\n",
       "      <td>Thissamaharama</td>\n",
       "      <td>3</td>\n",
       "      <td>4.0</td>\n",
       "      <td>10</td>\n",
       "      <td>1.0</td>\n",
       "      <td>2017-04-29 12:27:49.579004</td>\n",
       "      <td>6.265228</td>\n",
       "      <td>81.231154</td>\n",
       "      <td>0101000020E6100000BC95253ACB4E544017EFC7ED970F...</td>\n",
       "      <td>186.0</td>\n",
       "    </tr>\n",
       "    <tr>\n",
       "      <td>3</td>\n",
       "      <td>3096002</td>\n",
       "      <td>2280409</td>\n",
       "      <td>Private room</td>\n",
       "      <td>Badulla</td>\n",
       "      <td>Ella</td>\n",
       "      <td>4</td>\n",
       "      <td>3.5</td>\n",
       "      <td>3</td>\n",
       "      <td>1.0</td>\n",
       "      <td>2017-04-29 12:27:47.835733</td>\n",
       "      <td>6.817018</td>\n",
       "      <td>81.081622</td>\n",
       "      <td>0101000020E610000095287B4B394554402BF9D85DA044...</td>\n",
       "      <td>190.0</td>\n",
       "    </tr>\n",
       "    <tr>\n",
       "      <td>4</td>\n",
       "      <td>6718419</td>\n",
       "      <td>27260251</td>\n",
       "      <td>Private room</td>\n",
       "      <td>Galle</td>\n",
       "      <td>Hikkaduwa</td>\n",
       "      <td>4</td>\n",
       "      <td>5.0</td>\n",
       "      <td>4</td>\n",
       "      <td>2.0</td>\n",
       "      <td>2017-04-29 12:27:47.810019</td>\n",
       "      <td>6.130373</td>\n",
       "      <td>80.108414</td>\n",
       "      <td>0101000020E61000006D1B4641F00654402920ED7F8085...</td>\n",
       "      <td>190.0</td>\n",
       "    </tr>\n",
       "  </tbody>\n",
       "</table>\n",
       "</div>"
      ],
      "text/plain": [
       "    room_id    host_id     room_type     borough    neighborhood  reviews  \\\n",
       "0    794866    2280409  Private room       Galle     Ambalangoda        5   \n",
       "1  16313193  106602376  Private room  Hambantota  Thissamaharama        3   \n",
       "2   4804124    2515276  Private room  Hambantota  Thissamaharama        3   \n",
       "3   3096002    2280409  Private room     Badulla            Ella        4   \n",
       "4   6718419   27260251  Private room       Galle       Hikkaduwa        4   \n",
       "\n",
       "   overall_satisfaction  accommodates  bedrooms               last_modified  \\\n",
       "0                   4.5             9       1.0  2017-04-29 12:27:58.139205   \n",
       "1                   5.0             3       1.0  2017-04-29 12:27:49.611334   \n",
       "2                   4.0            10       1.0  2017-04-29 12:27:49.579004   \n",
       "3                   3.5             3       1.0  2017-04-29 12:27:47.835733   \n",
       "4                   5.0             4       2.0  2017-04-29 12:27:47.810019   \n",
       "\n",
       "   latitude  longitude                                           location  \\\n",
       "0  6.230980  80.056247  0101000020E6100000E15F048D99035440CD1E680586EC...   \n",
       "1  6.267283  81.297854  0101000020E6100000E63E390A10535440691B7FA2B211...   \n",
       "2  6.265228  81.231154  0101000020E6100000BC95253ACB4E544017EFC7ED970F...   \n",
       "3  6.817018  81.081622  0101000020E610000095287B4B394554402BF9D85DA044...   \n",
       "4  6.130373  80.108414  0101000020E61000006D1B4641F00654402920ED7F8085...   \n",
       "\n",
       "   price  \n",
       "0  300.0  \n",
       "1  180.0  \n",
       "2  186.0  \n",
       "3  190.0  \n",
       "4  190.0  "
      ]
     },
     "execution_count": 9,
     "metadata": {},
     "output_type": "execute_result"
    }
   ],
   "source": [
    "# after cleaning the dataset first 5 rows\n",
    "df_1.head(5)"
   ]
  },
  {
   "cell_type": "code",
   "execution_count": 10,
   "metadata": {
    "ExecuteTime": {
     "end_time": "2020-12-09T06:43:30.140661Z",
     "start_time": "2020-12-09T06:43:29.911365Z"
    }
   },
   "outputs": [
    {
     "data": {
      "text/plain": [
       "(2557, 14)"
      ]
     },
     "execution_count": 10,
     "metadata": {},
     "output_type": "execute_result"
    }
   ],
   "source": [
    "# shape of cleaned dataset. 9 columns dropped and 9011 rows dropped\n",
    "df_1.shape"
   ]
  },
  {
   "cell_type": "markdown",
   "metadata": {},
   "source": [
    "### Tidy data:\n",
    "\n",
    "\n",
    "#### The dataset I have chosen, there is nothing much to make it tidy. It can be chuncked into subsets so that those subsets are smaller in size and can be used for particular investigation target.\n",
    "\n",
    "\n",
    "- The clenaed dataset is divided into two subsets of dataset\n",
    "\n",
    "\n",
    "\n",
    "- They can be merged later on in case we need the original dataset  \n",
    "\n",
    "\n",
    "\n",
    "- df_sub1 which has columns room_type, borough(meaning location), neighborhood and price\n",
    "\n",
    "\n",
    "\n",
    "- df_sub2 which has columns reviews,overall_satisfaction,accommodates,bedrooms and price\n",
    "\n",
    "\n",
    "\n",
    "- df_sub3 which has columns last_modified,latitude,longitude,location columns\n",
    "\n",
    "\n",
    "\n",
    "- both subsets has two other columns room_id and host_id which will be used as identifier\n",
    "\n",
    "\n",
    "\n",
    "- So both subsets has three common columns room_id, host_id and price\n"
   ]
  },
  {
   "cell_type": "code",
   "execution_count": 11,
   "metadata": {
    "ExecuteTime": {
     "end_time": "2020-12-09T06:43:30.319336Z",
     "start_time": "2020-12-09T06:43:30.145659Z"
    }
   },
   "outputs": [
    {
     "data": {
      "text/html": [
       "<div>\n",
       "<style scoped>\n",
       "    .dataframe tbody tr th:only-of-type {\n",
       "        vertical-align: middle;\n",
       "    }\n",
       "\n",
       "    .dataframe tbody tr th {\n",
       "        vertical-align: top;\n",
       "    }\n",
       "\n",
       "    .dataframe thead th {\n",
       "        text-align: right;\n",
       "    }\n",
       "</style>\n",
       "<table border=\"1\" class=\"dataframe\">\n",
       "  <thead>\n",
       "    <tr style=\"text-align: right;\">\n",
       "      <th></th>\n",
       "      <th>room_id</th>\n",
       "      <th>host_id</th>\n",
       "      <th>room_type</th>\n",
       "      <th>borough</th>\n",
       "      <th>neighborhood</th>\n",
       "      <th>price</th>\n",
       "    </tr>\n",
       "  </thead>\n",
       "  <tbody>\n",
       "    <tr>\n",
       "      <td>0</td>\n",
       "      <td>794866</td>\n",
       "      <td>2280409</td>\n",
       "      <td>Private room</td>\n",
       "      <td>Galle</td>\n",
       "      <td>Ambalangoda</td>\n",
       "      <td>300.0</td>\n",
       "    </tr>\n",
       "    <tr>\n",
       "      <td>1</td>\n",
       "      <td>16313193</td>\n",
       "      <td>106602376</td>\n",
       "      <td>Private room</td>\n",
       "      <td>Hambantota</td>\n",
       "      <td>Thissamaharama</td>\n",
       "      <td>180.0</td>\n",
       "    </tr>\n",
       "    <tr>\n",
       "      <td>2</td>\n",
       "      <td>4804124</td>\n",
       "      <td>2515276</td>\n",
       "      <td>Private room</td>\n",
       "      <td>Hambantota</td>\n",
       "      <td>Thissamaharama</td>\n",
       "      <td>186.0</td>\n",
       "    </tr>\n",
       "    <tr>\n",
       "      <td>3</td>\n",
       "      <td>3096002</td>\n",
       "      <td>2280409</td>\n",
       "      <td>Private room</td>\n",
       "      <td>Badulla</td>\n",
       "      <td>Ella</td>\n",
       "      <td>190.0</td>\n",
       "    </tr>\n",
       "    <tr>\n",
       "      <td>4</td>\n",
       "      <td>6718419</td>\n",
       "      <td>27260251</td>\n",
       "      <td>Private room</td>\n",
       "      <td>Galle</td>\n",
       "      <td>Hikkaduwa</td>\n",
       "      <td>190.0</td>\n",
       "    </tr>\n",
       "  </tbody>\n",
       "</table>\n",
       "</div>"
      ],
      "text/plain": [
       "    room_id    host_id     room_type     borough    neighborhood  price\n",
       "0    794866    2280409  Private room       Galle     Ambalangoda  300.0\n",
       "1  16313193  106602376  Private room  Hambantota  Thissamaharama  180.0\n",
       "2   4804124    2515276  Private room  Hambantota  Thissamaharama  186.0\n",
       "3   3096002    2280409  Private room     Badulla            Ella  190.0\n",
       "4   6718419   27260251  Private room       Galle       Hikkaduwa  190.0"
      ]
     },
     "execution_count": 11,
     "metadata": {},
     "output_type": "execute_result"
    }
   ],
   "source": [
    "# making smaller dataset by selecting some columns from cleaned dataset.\n",
    "df_sub1=df_1[['room_id','host_id','room_type','borough','neighborhood','price']]\n",
    "\n",
    "\n",
    "\n",
    "#printing first 5 lines of subset data \n",
    "df_sub1.head()"
   ]
  },
  {
   "cell_type": "code",
   "execution_count": 12,
   "metadata": {
    "ExecuteTime": {
     "end_time": "2020-12-09T06:43:30.504251Z",
     "start_time": "2020-12-09T06:43:30.323332Z"
    }
   },
   "outputs": [
    {
     "data": {
      "text/plain": [
       "(2557, 6)"
      ]
     },
     "execution_count": 12,
     "metadata": {},
     "output_type": "execute_result"
    }
   ],
   "source": [
    "# number of columns and rows of first subset\n",
    "df_sub1.shape"
   ]
  },
  {
   "cell_type": "code",
   "execution_count": 13,
   "metadata": {
    "ExecuteTime": {
     "end_time": "2020-12-09T06:43:30.694404Z",
     "start_time": "2020-12-09T06:43:30.511245Z"
    }
   },
   "outputs": [
    {
     "data": {
      "text/plain": [
       "borough\n",
       "Ampara           30\n",
       "Anuradhapura     56\n",
       "Badulla         116\n",
       "Batticaloa       14\n",
       "Colombo         442\n",
       "Galle           555\n",
       "Gampaha         232\n",
       "Hambantota      103\n",
       "Jaffna           15\n",
       "Kalutara         58\n",
       "Kandy           305\n",
       "Kegalle          16\n",
       "Kurunegala        2\n",
       "Mannar            1\n",
       "Matale           85\n",
       "Matara          285\n",
       "Moneragala       20\n",
       "Mullaitivu        1\n",
       "Nuwara Eliya    101\n",
       "Polonnaruwa      21\n",
       "Puttalam         29\n",
       "Ratnapura        19\n",
       "Trincomalee      51\n",
       "Name: room_id, dtype: int64"
      ]
     },
     "execution_count": 13,
     "metadata": {},
     "output_type": "execute_result"
    }
   ],
   "source": [
    "# total number of rooms in a location\n",
    "df_1.groupby('borough')['room_id'].count()"
   ]
  },
  {
   "cell_type": "code",
   "execution_count": 14,
   "metadata": {
    "ExecuteTime": {
     "end_time": "2020-12-09T06:43:30.909860Z",
     "start_time": "2020-12-09T06:43:30.701397Z"
    }
   },
   "outputs": [
    {
     "data": {
      "text/html": [
       "<div>\n",
       "<style scoped>\n",
       "    .dataframe tbody tr th:only-of-type {\n",
       "        vertical-align: middle;\n",
       "    }\n",
       "\n",
       "    .dataframe tbody tr th {\n",
       "        vertical-align: top;\n",
       "    }\n",
       "\n",
       "    .dataframe thead th {\n",
       "        text-align: right;\n",
       "    }\n",
       "</style>\n",
       "<table border=\"1\" class=\"dataframe\">\n",
       "  <thead>\n",
       "    <tr style=\"text-align: right;\">\n",
       "      <th></th>\n",
       "      <th>room_id</th>\n",
       "      <th>host_id</th>\n",
       "      <th>reviews</th>\n",
       "      <th>overall_satisfaction</th>\n",
       "      <th>accommodates</th>\n",
       "      <th>bedrooms</th>\n",
       "      <th>price</th>\n",
       "    </tr>\n",
       "  </thead>\n",
       "  <tbody>\n",
       "    <tr>\n",
       "      <td>0</td>\n",
       "      <td>794866</td>\n",
       "      <td>2280409</td>\n",
       "      <td>5</td>\n",
       "      <td>4.5</td>\n",
       "      <td>9</td>\n",
       "      <td>1.0</td>\n",
       "      <td>300.0</td>\n",
       "    </tr>\n",
       "    <tr>\n",
       "      <td>1</td>\n",
       "      <td>16313193</td>\n",
       "      <td>106602376</td>\n",
       "      <td>3</td>\n",
       "      <td>5.0</td>\n",
       "      <td>3</td>\n",
       "      <td>1.0</td>\n",
       "      <td>180.0</td>\n",
       "    </tr>\n",
       "    <tr>\n",
       "      <td>2</td>\n",
       "      <td>4804124</td>\n",
       "      <td>2515276</td>\n",
       "      <td>3</td>\n",
       "      <td>4.0</td>\n",
       "      <td>10</td>\n",
       "      <td>1.0</td>\n",
       "      <td>186.0</td>\n",
       "    </tr>\n",
       "    <tr>\n",
       "      <td>3</td>\n",
       "      <td>3096002</td>\n",
       "      <td>2280409</td>\n",
       "      <td>4</td>\n",
       "      <td>3.5</td>\n",
       "      <td>3</td>\n",
       "      <td>1.0</td>\n",
       "      <td>190.0</td>\n",
       "    </tr>\n",
       "    <tr>\n",
       "      <td>4</td>\n",
       "      <td>6718419</td>\n",
       "      <td>27260251</td>\n",
       "      <td>4</td>\n",
       "      <td>5.0</td>\n",
       "      <td>4</td>\n",
       "      <td>2.0</td>\n",
       "      <td>190.0</td>\n",
       "    </tr>\n",
       "  </tbody>\n",
       "</table>\n",
       "</div>"
      ],
      "text/plain": [
       "    room_id    host_id  reviews  overall_satisfaction  accommodates  bedrooms  \\\n",
       "0    794866    2280409        5                   4.5             9       1.0   \n",
       "1  16313193  106602376        3                   5.0             3       1.0   \n",
       "2   4804124    2515276        3                   4.0            10       1.0   \n",
       "3   3096002    2280409        4                   3.5             3       1.0   \n",
       "4   6718419   27260251        4                   5.0             4       2.0   \n",
       "\n",
       "   price  \n",
       "0  300.0  \n",
       "1  180.0  \n",
       "2  186.0  \n",
       "3  190.0  \n",
       "4  190.0  "
      ]
     },
     "execution_count": 14,
     "metadata": {},
     "output_type": "execute_result"
    }
   ],
   "source": [
    "# second subset from original dataset\n",
    "df_sub2=df_1[['room_id','host_id','reviews','overall_satisfaction','accommodates','bedrooms','price']]\n",
    "\n",
    "df_sub2.head()"
   ]
  },
  {
   "cell_type": "code",
   "execution_count": 15,
   "metadata": {
    "ExecuteTime": {
     "end_time": "2020-12-09T06:43:35.480497Z",
     "start_time": "2020-12-09T06:43:30.914858Z"
    }
   },
   "outputs": [
    {
     "data": {
      "text/html": [
       "        <script type=\"text/javascript\">\n",
       "        window.PlotlyConfig = {MathJaxConfig: 'local'};\n",
       "        if (window.MathJax) {MathJax.Hub.Config({SVG: {font: \"STIX-Web\"}});}\n",
       "        if (typeof require !== 'undefined') {\n",
       "        require.undef(\"plotly\");\n",
       "        requirejs.config({\n",
       "            paths: {\n",
       "                'plotly': ['https://cdn.plot.ly/plotly-latest.min']\n",
       "            }\n",
       "        });\n",
       "        require(['plotly'], function(Plotly) {\n",
       "            window._Plotly = Plotly;\n",
       "        });\n",
       "        }\n",
       "        </script>\n",
       "        "
      ]
     },
     "metadata": {},
     "output_type": "display_data"
    },
    {
     "data": {
      "text/html": [
       "        <script type=\"text/javascript\">\n",
       "        window.PlotlyConfig = {MathJaxConfig: 'local'};\n",
       "        if (window.MathJax) {MathJax.Hub.Config({SVG: {font: \"STIX-Web\"}});}\n",
       "        if (typeof require !== 'undefined') {\n",
       "        require.undef(\"plotly\");\n",
       "        requirejs.config({\n",
       "            paths: {\n",
       "                'plotly': ['https://cdn.plot.ly/plotly-latest.min']\n",
       "            }\n",
       "        });\n",
       "        require(['plotly'], function(Plotly) {\n",
       "            window._Plotly = Plotly;\n",
       "        });\n",
       "        }\n",
       "        </script>\n",
       "        "
      ]
     },
     "metadata": {},
     "output_type": "display_data"
    },
    {
     "data": {
      "application/vnd.plotly.v1+json": {
       "config": {
        "linkText": "Export to plot.ly",
        "plotlyServerURL": "https://plot.ly",
        "showLink": true
       },
       "data": [
        {
         "line": {
          "color": "rgba(255, 153, 51, 1.0)",
          "dash": "solid",
          "shape": "linear",
          "width": 1.3
         },
         "mode": "lines",
         "name": "price",
         "text": "",
         "type": "scatter",
         "x": [
          1.5,
          2,
          2.5,
          3,
          3.5,
          4,
          4.5,
          5
         ],
         "y": [
          23,
          28,
          60,
          54.705882352941174,
          50.544642857142854,
          44.52887537993921,
          50.96594134342479,
          78.48330058939096
         ]
        }
       ],
       "layout": {
        "legend": {
         "bgcolor": "#F5F6F9",
         "font": {
          "color": "#4D5663"
         }
        },
        "paper_bgcolor": "#F5F6F9",
        "plot_bgcolor": "#F5F6F9",
        "template": {
         "data": {
          "bar": [
           {
            "error_x": {
             "color": "#2a3f5f"
            },
            "error_y": {
             "color": "#2a3f5f"
            },
            "marker": {
             "line": {
              "color": "#E5ECF6",
              "width": 0.5
             }
            },
            "type": "bar"
           }
          ],
          "barpolar": [
           {
            "marker": {
             "line": {
              "color": "#E5ECF6",
              "width": 0.5
             }
            },
            "type": "barpolar"
           }
          ],
          "carpet": [
           {
            "aaxis": {
             "endlinecolor": "#2a3f5f",
             "gridcolor": "white",
             "linecolor": "white",
             "minorgridcolor": "white",
             "startlinecolor": "#2a3f5f"
            },
            "baxis": {
             "endlinecolor": "#2a3f5f",
             "gridcolor": "white",
             "linecolor": "white",
             "minorgridcolor": "white",
             "startlinecolor": "#2a3f5f"
            },
            "type": "carpet"
           }
          ],
          "choropleth": [
           {
            "colorbar": {
             "outlinewidth": 0,
             "ticks": ""
            },
            "type": "choropleth"
           }
          ],
          "contour": [
           {
            "colorbar": {
             "outlinewidth": 0,
             "ticks": ""
            },
            "colorscale": [
             [
              0,
              "#0d0887"
             ],
             [
              0.1111111111111111,
              "#46039f"
             ],
             [
              0.2222222222222222,
              "#7201a8"
             ],
             [
              0.3333333333333333,
              "#9c179e"
             ],
             [
              0.4444444444444444,
              "#bd3786"
             ],
             [
              0.5555555555555556,
              "#d8576b"
             ],
             [
              0.6666666666666666,
              "#ed7953"
             ],
             [
              0.7777777777777778,
              "#fb9f3a"
             ],
             [
              0.8888888888888888,
              "#fdca26"
             ],
             [
              1,
              "#f0f921"
             ]
            ],
            "type": "contour"
           }
          ],
          "contourcarpet": [
           {
            "colorbar": {
             "outlinewidth": 0,
             "ticks": ""
            },
            "type": "contourcarpet"
           }
          ],
          "heatmap": [
           {
            "colorbar": {
             "outlinewidth": 0,
             "ticks": ""
            },
            "colorscale": [
             [
              0,
              "#0d0887"
             ],
             [
              0.1111111111111111,
              "#46039f"
             ],
             [
              0.2222222222222222,
              "#7201a8"
             ],
             [
              0.3333333333333333,
              "#9c179e"
             ],
             [
              0.4444444444444444,
              "#bd3786"
             ],
             [
              0.5555555555555556,
              "#d8576b"
             ],
             [
              0.6666666666666666,
              "#ed7953"
             ],
             [
              0.7777777777777778,
              "#fb9f3a"
             ],
             [
              0.8888888888888888,
              "#fdca26"
             ],
             [
              1,
              "#f0f921"
             ]
            ],
            "type": "heatmap"
           }
          ],
          "heatmapgl": [
           {
            "colorbar": {
             "outlinewidth": 0,
             "ticks": ""
            },
            "colorscale": [
             [
              0,
              "#0d0887"
             ],
             [
              0.1111111111111111,
              "#46039f"
             ],
             [
              0.2222222222222222,
              "#7201a8"
             ],
             [
              0.3333333333333333,
              "#9c179e"
             ],
             [
              0.4444444444444444,
              "#bd3786"
             ],
             [
              0.5555555555555556,
              "#d8576b"
             ],
             [
              0.6666666666666666,
              "#ed7953"
             ],
             [
              0.7777777777777778,
              "#fb9f3a"
             ],
             [
              0.8888888888888888,
              "#fdca26"
             ],
             [
              1,
              "#f0f921"
             ]
            ],
            "type": "heatmapgl"
           }
          ],
          "histogram": [
           {
            "marker": {
             "colorbar": {
              "outlinewidth": 0,
              "ticks": ""
             }
            },
            "type": "histogram"
           }
          ],
          "histogram2d": [
           {
            "colorbar": {
             "outlinewidth": 0,
             "ticks": ""
            },
            "colorscale": [
             [
              0,
              "#0d0887"
             ],
             [
              0.1111111111111111,
              "#46039f"
             ],
             [
              0.2222222222222222,
              "#7201a8"
             ],
             [
              0.3333333333333333,
              "#9c179e"
             ],
             [
              0.4444444444444444,
              "#bd3786"
             ],
             [
              0.5555555555555556,
              "#d8576b"
             ],
             [
              0.6666666666666666,
              "#ed7953"
             ],
             [
              0.7777777777777778,
              "#fb9f3a"
             ],
             [
              0.8888888888888888,
              "#fdca26"
             ],
             [
              1,
              "#f0f921"
             ]
            ],
            "type": "histogram2d"
           }
          ],
          "histogram2dcontour": [
           {
            "colorbar": {
             "outlinewidth": 0,
             "ticks": ""
            },
            "colorscale": [
             [
              0,
              "#0d0887"
             ],
             [
              0.1111111111111111,
              "#46039f"
             ],
             [
              0.2222222222222222,
              "#7201a8"
             ],
             [
              0.3333333333333333,
              "#9c179e"
             ],
             [
              0.4444444444444444,
              "#bd3786"
             ],
             [
              0.5555555555555556,
              "#d8576b"
             ],
             [
              0.6666666666666666,
              "#ed7953"
             ],
             [
              0.7777777777777778,
              "#fb9f3a"
             ],
             [
              0.8888888888888888,
              "#fdca26"
             ],
             [
              1,
              "#f0f921"
             ]
            ],
            "type": "histogram2dcontour"
           }
          ],
          "mesh3d": [
           {
            "colorbar": {
             "outlinewidth": 0,
             "ticks": ""
            },
            "type": "mesh3d"
           }
          ],
          "parcoords": [
           {
            "line": {
             "colorbar": {
              "outlinewidth": 0,
              "ticks": ""
             }
            },
            "type": "parcoords"
           }
          ],
          "pie": [
           {
            "automargin": true,
            "type": "pie"
           }
          ],
          "scatter": [
           {
            "marker": {
             "colorbar": {
              "outlinewidth": 0,
              "ticks": ""
             }
            },
            "type": "scatter"
           }
          ],
          "scatter3d": [
           {
            "line": {
             "colorbar": {
              "outlinewidth": 0,
              "ticks": ""
             }
            },
            "marker": {
             "colorbar": {
              "outlinewidth": 0,
              "ticks": ""
             }
            },
            "type": "scatter3d"
           }
          ],
          "scattercarpet": [
           {
            "marker": {
             "colorbar": {
              "outlinewidth": 0,
              "ticks": ""
             }
            },
            "type": "scattercarpet"
           }
          ],
          "scattergeo": [
           {
            "marker": {
             "colorbar": {
              "outlinewidth": 0,
              "ticks": ""
             }
            },
            "type": "scattergeo"
           }
          ],
          "scattergl": [
           {
            "marker": {
             "colorbar": {
              "outlinewidth": 0,
              "ticks": ""
             }
            },
            "type": "scattergl"
           }
          ],
          "scattermapbox": [
           {
            "marker": {
             "colorbar": {
              "outlinewidth": 0,
              "ticks": ""
             }
            },
            "type": "scattermapbox"
           }
          ],
          "scatterpolar": [
           {
            "marker": {
             "colorbar": {
              "outlinewidth": 0,
              "ticks": ""
             }
            },
            "type": "scatterpolar"
           }
          ],
          "scatterpolargl": [
           {
            "marker": {
             "colorbar": {
              "outlinewidth": 0,
              "ticks": ""
             }
            },
            "type": "scatterpolargl"
           }
          ],
          "scatterternary": [
           {
            "marker": {
             "colorbar": {
              "outlinewidth": 0,
              "ticks": ""
             }
            },
            "type": "scatterternary"
           }
          ],
          "surface": [
           {
            "colorbar": {
             "outlinewidth": 0,
             "ticks": ""
            },
            "colorscale": [
             [
              0,
              "#0d0887"
             ],
             [
              0.1111111111111111,
              "#46039f"
             ],
             [
              0.2222222222222222,
              "#7201a8"
             ],
             [
              0.3333333333333333,
              "#9c179e"
             ],
             [
              0.4444444444444444,
              "#bd3786"
             ],
             [
              0.5555555555555556,
              "#d8576b"
             ],
             [
              0.6666666666666666,
              "#ed7953"
             ],
             [
              0.7777777777777778,
              "#fb9f3a"
             ],
             [
              0.8888888888888888,
              "#fdca26"
             ],
             [
              1,
              "#f0f921"
             ]
            ],
            "type": "surface"
           }
          ],
          "table": [
           {
            "cells": {
             "fill": {
              "color": "#EBF0F8"
             },
             "line": {
              "color": "white"
             }
            },
            "header": {
             "fill": {
              "color": "#C8D4E3"
             },
             "line": {
              "color": "white"
             }
            },
            "type": "table"
           }
          ]
         },
         "layout": {
          "annotationdefaults": {
           "arrowcolor": "#2a3f5f",
           "arrowhead": 0,
           "arrowwidth": 1
          },
          "coloraxis": {
           "colorbar": {
            "outlinewidth": 0,
            "ticks": ""
           }
          },
          "colorscale": {
           "diverging": [
            [
             0,
             "#8e0152"
            ],
            [
             0.1,
             "#c51b7d"
            ],
            [
             0.2,
             "#de77ae"
            ],
            [
             0.3,
             "#f1b6da"
            ],
            [
             0.4,
             "#fde0ef"
            ],
            [
             0.5,
             "#f7f7f7"
            ],
            [
             0.6,
             "#e6f5d0"
            ],
            [
             0.7,
             "#b8e186"
            ],
            [
             0.8,
             "#7fbc41"
            ],
            [
             0.9,
             "#4d9221"
            ],
            [
             1,
             "#276419"
            ]
           ],
           "sequential": [
            [
             0,
             "#0d0887"
            ],
            [
             0.1111111111111111,
             "#46039f"
            ],
            [
             0.2222222222222222,
             "#7201a8"
            ],
            [
             0.3333333333333333,
             "#9c179e"
            ],
            [
             0.4444444444444444,
             "#bd3786"
            ],
            [
             0.5555555555555556,
             "#d8576b"
            ],
            [
             0.6666666666666666,
             "#ed7953"
            ],
            [
             0.7777777777777778,
             "#fb9f3a"
            ],
            [
             0.8888888888888888,
             "#fdca26"
            ],
            [
             1,
             "#f0f921"
            ]
           ],
           "sequentialminus": [
            [
             0,
             "#0d0887"
            ],
            [
             0.1111111111111111,
             "#46039f"
            ],
            [
             0.2222222222222222,
             "#7201a8"
            ],
            [
             0.3333333333333333,
             "#9c179e"
            ],
            [
             0.4444444444444444,
             "#bd3786"
            ],
            [
             0.5555555555555556,
             "#d8576b"
            ],
            [
             0.6666666666666666,
             "#ed7953"
            ],
            [
             0.7777777777777778,
             "#fb9f3a"
            ],
            [
             0.8888888888888888,
             "#fdca26"
            ],
            [
             1,
             "#f0f921"
            ]
           ]
          },
          "colorway": [
           "#636efa",
           "#EF553B",
           "#00cc96",
           "#ab63fa",
           "#FFA15A",
           "#19d3f3",
           "#FF6692",
           "#B6E880",
           "#FF97FF",
           "#FECB52"
          ],
          "font": {
           "color": "#2a3f5f"
          },
          "geo": {
           "bgcolor": "white",
           "lakecolor": "white",
           "landcolor": "#E5ECF6",
           "showlakes": true,
           "showland": true,
           "subunitcolor": "white"
          },
          "hoverlabel": {
           "align": "left"
          },
          "hovermode": "closest",
          "mapbox": {
           "style": "light"
          },
          "paper_bgcolor": "white",
          "plot_bgcolor": "#E5ECF6",
          "polar": {
           "angularaxis": {
            "gridcolor": "white",
            "linecolor": "white",
            "ticks": ""
           },
           "bgcolor": "#E5ECF6",
           "radialaxis": {
            "gridcolor": "white",
            "linecolor": "white",
            "ticks": ""
           }
          },
          "scene": {
           "xaxis": {
            "backgroundcolor": "#E5ECF6",
            "gridcolor": "white",
            "gridwidth": 2,
            "linecolor": "white",
            "showbackground": true,
            "ticks": "",
            "zerolinecolor": "white"
           },
           "yaxis": {
            "backgroundcolor": "#E5ECF6",
            "gridcolor": "white",
            "gridwidth": 2,
            "linecolor": "white",
            "showbackground": true,
            "ticks": "",
            "zerolinecolor": "white"
           },
           "zaxis": {
            "backgroundcolor": "#E5ECF6",
            "gridcolor": "white",
            "gridwidth": 2,
            "linecolor": "white",
            "showbackground": true,
            "ticks": "",
            "zerolinecolor": "white"
           }
          },
          "shapedefaults": {
           "line": {
            "color": "#2a3f5f"
           }
          },
          "ternary": {
           "aaxis": {
            "gridcolor": "white",
            "linecolor": "white",
            "ticks": ""
           },
           "baxis": {
            "gridcolor": "white",
            "linecolor": "white",
            "ticks": ""
           },
           "bgcolor": "#E5ECF6",
           "caxis": {
            "gridcolor": "white",
            "linecolor": "white",
            "ticks": ""
           }
          },
          "title": {
           "x": 0.05
          },
          "xaxis": {
           "automargin": true,
           "gridcolor": "white",
           "linecolor": "white",
           "ticks": "",
           "title": {
            "standoff": 15
           },
           "zerolinecolor": "white",
           "zerolinewidth": 2
          },
          "yaxis": {
           "automargin": true,
           "gridcolor": "white",
           "linecolor": "white",
           "ticks": "",
           "title": {
            "standoff": 15
           },
           "zerolinecolor": "white",
           "zerolinewidth": 2
          }
         }
        },
        "title": {
         "font": {
          "color": "#4D5663"
         },
         "text": "Price and satisfaction level correlation estimation"
        },
        "xaxis": {
         "gridcolor": "#E1E5ED",
         "showgrid": true,
         "tickfont": {
          "color": "#4D5663"
         },
         "title": {
          "font": {
           "color": "#4D5663"
          },
          "text": "Overall_satisfaction"
         },
         "zerolinecolor": "#E1E5ED"
        },
        "yaxis": {
         "gridcolor": "#E1E5ED",
         "showgrid": true,
         "tickfont": {
          "color": "#4D5663"
         },
         "title": {
          "font": {
           "color": "#4D5663"
          },
          "text": "Price"
         },
         "zerolinecolor": "#E1E5ED"
        }
       }
      },
      "text/html": [
       "<div>                            <div id=\"f65cb02d-bfcd-4937-bf94-a72b3891a617\" class=\"plotly-graph-div\" style=\"height:525px; width:100%;\"></div>            <script type=\"text/javascript\">                require([\"plotly\"], function(Plotly) {                    window.PLOTLYENV=window.PLOTLYENV || {};\n",
       "                    window.PLOTLYENV.BASE_URL='https://plot.ly';                                    if (document.getElementById(\"f65cb02d-bfcd-4937-bf94-a72b3891a617\")) {                    Plotly.newPlot(                        \"f65cb02d-bfcd-4937-bf94-a72b3891a617\",                        [{\"line\": {\"color\": \"rgba(255, 153, 51, 1.0)\", \"dash\": \"solid\", \"shape\": \"linear\", \"width\": 1.3}, \"mode\": \"lines\", \"name\": \"price\", \"text\": \"\", \"type\": \"scatter\", \"x\": [1.5, 2.0, 2.5, 3.0, 3.5, 4.0, 4.5, 5.0], \"y\": [23.0, 28.0, 60.0, 54.705882352941174, 50.544642857142854, 44.52887537993921, 50.96594134342479, 78.48330058939096]}],                        {\"legend\": {\"bgcolor\": \"#F5F6F9\", \"font\": {\"color\": \"#4D5663\"}}, \"paper_bgcolor\": \"#F5F6F9\", \"plot_bgcolor\": \"#F5F6F9\", \"template\": {\"data\": {\"bar\": [{\"error_x\": {\"color\": \"#2a3f5f\"}, \"error_y\": {\"color\": \"#2a3f5f\"}, \"marker\": {\"line\": {\"color\": \"#E5ECF6\", \"width\": 0.5}}, \"type\": \"bar\"}], \"barpolar\": [{\"marker\": {\"line\": {\"color\": \"#E5ECF6\", \"width\": 0.5}}, \"type\": \"barpolar\"}], \"carpet\": [{\"aaxis\": {\"endlinecolor\": \"#2a3f5f\", \"gridcolor\": \"white\", \"linecolor\": \"white\", \"minorgridcolor\": \"white\", \"startlinecolor\": \"#2a3f5f\"}, \"baxis\": {\"endlinecolor\": \"#2a3f5f\", \"gridcolor\": \"white\", \"linecolor\": \"white\", \"minorgridcolor\": \"white\", \"startlinecolor\": \"#2a3f5f\"}, \"type\": \"carpet\"}], \"choropleth\": [{\"colorbar\": {\"outlinewidth\": 0, \"ticks\": \"\"}, \"type\": \"choropleth\"}], \"contour\": [{\"colorbar\": {\"outlinewidth\": 0, \"ticks\": \"\"}, \"colorscale\": [[0.0, \"#0d0887\"], [0.1111111111111111, \"#46039f\"], [0.2222222222222222, \"#7201a8\"], [0.3333333333333333, \"#9c179e\"], [0.4444444444444444, \"#bd3786\"], [0.5555555555555556, \"#d8576b\"], [0.6666666666666666, \"#ed7953\"], [0.7777777777777778, \"#fb9f3a\"], [0.8888888888888888, \"#fdca26\"], [1.0, \"#f0f921\"]], \"type\": \"contour\"}], \"contourcarpet\": [{\"colorbar\": {\"outlinewidth\": 0, \"ticks\": \"\"}, \"type\": \"contourcarpet\"}], \"heatmap\": [{\"colorbar\": {\"outlinewidth\": 0, \"ticks\": \"\"}, \"colorscale\": [[0.0, \"#0d0887\"], [0.1111111111111111, \"#46039f\"], [0.2222222222222222, \"#7201a8\"], [0.3333333333333333, \"#9c179e\"], [0.4444444444444444, \"#bd3786\"], [0.5555555555555556, \"#d8576b\"], [0.6666666666666666, \"#ed7953\"], [0.7777777777777778, \"#fb9f3a\"], [0.8888888888888888, \"#fdca26\"], [1.0, \"#f0f921\"]], \"type\": \"heatmap\"}], \"heatmapgl\": [{\"colorbar\": {\"outlinewidth\": 0, \"ticks\": \"\"}, \"colorscale\": [[0.0, \"#0d0887\"], [0.1111111111111111, \"#46039f\"], [0.2222222222222222, \"#7201a8\"], [0.3333333333333333, \"#9c179e\"], [0.4444444444444444, \"#bd3786\"], [0.5555555555555556, \"#d8576b\"], [0.6666666666666666, \"#ed7953\"], [0.7777777777777778, \"#fb9f3a\"], [0.8888888888888888, \"#fdca26\"], [1.0, \"#f0f921\"]], \"type\": \"heatmapgl\"}], \"histogram\": [{\"marker\": {\"colorbar\": {\"outlinewidth\": 0, \"ticks\": \"\"}}, \"type\": \"histogram\"}], \"histogram2d\": [{\"colorbar\": {\"outlinewidth\": 0, \"ticks\": \"\"}, \"colorscale\": [[0.0, \"#0d0887\"], [0.1111111111111111, \"#46039f\"], [0.2222222222222222, \"#7201a8\"], [0.3333333333333333, \"#9c179e\"], [0.4444444444444444, \"#bd3786\"], [0.5555555555555556, \"#d8576b\"], [0.6666666666666666, \"#ed7953\"], [0.7777777777777778, \"#fb9f3a\"], [0.8888888888888888, \"#fdca26\"], [1.0, \"#f0f921\"]], \"type\": \"histogram2d\"}], \"histogram2dcontour\": [{\"colorbar\": {\"outlinewidth\": 0, \"ticks\": \"\"}, \"colorscale\": [[0.0, \"#0d0887\"], [0.1111111111111111, \"#46039f\"], [0.2222222222222222, \"#7201a8\"], [0.3333333333333333, \"#9c179e\"], [0.4444444444444444, \"#bd3786\"], [0.5555555555555556, \"#d8576b\"], [0.6666666666666666, \"#ed7953\"], [0.7777777777777778, \"#fb9f3a\"], [0.8888888888888888, \"#fdca26\"], [1.0, \"#f0f921\"]], \"type\": \"histogram2dcontour\"}], \"mesh3d\": [{\"colorbar\": {\"outlinewidth\": 0, \"ticks\": \"\"}, \"type\": \"mesh3d\"}], \"parcoords\": [{\"line\": {\"colorbar\": {\"outlinewidth\": 0, \"ticks\": \"\"}}, \"type\": \"parcoords\"}], \"pie\": [{\"automargin\": true, \"type\": \"pie\"}], \"scatter\": [{\"marker\": {\"colorbar\": {\"outlinewidth\": 0, \"ticks\": \"\"}}, \"type\": \"scatter\"}], \"scatter3d\": [{\"line\": {\"colorbar\": {\"outlinewidth\": 0, \"ticks\": \"\"}}, \"marker\": {\"colorbar\": {\"outlinewidth\": 0, \"ticks\": \"\"}}, \"type\": \"scatter3d\"}], \"scattercarpet\": [{\"marker\": {\"colorbar\": {\"outlinewidth\": 0, \"ticks\": \"\"}}, \"type\": \"scattercarpet\"}], \"scattergeo\": [{\"marker\": {\"colorbar\": {\"outlinewidth\": 0, \"ticks\": \"\"}}, \"type\": \"scattergeo\"}], \"scattergl\": [{\"marker\": {\"colorbar\": {\"outlinewidth\": 0, \"ticks\": \"\"}}, \"type\": \"scattergl\"}], \"scattermapbox\": [{\"marker\": {\"colorbar\": {\"outlinewidth\": 0, \"ticks\": \"\"}}, \"type\": \"scattermapbox\"}], \"scatterpolar\": [{\"marker\": {\"colorbar\": {\"outlinewidth\": 0, \"ticks\": \"\"}}, \"type\": \"scatterpolar\"}], \"scatterpolargl\": [{\"marker\": {\"colorbar\": {\"outlinewidth\": 0, \"ticks\": \"\"}}, \"type\": \"scatterpolargl\"}], \"scatterternary\": [{\"marker\": {\"colorbar\": {\"outlinewidth\": 0, \"ticks\": \"\"}}, \"type\": \"scatterternary\"}], \"surface\": [{\"colorbar\": {\"outlinewidth\": 0, \"ticks\": \"\"}, \"colorscale\": [[0.0, \"#0d0887\"], [0.1111111111111111, \"#46039f\"], [0.2222222222222222, \"#7201a8\"], [0.3333333333333333, \"#9c179e\"], [0.4444444444444444, \"#bd3786\"], [0.5555555555555556, \"#d8576b\"], [0.6666666666666666, \"#ed7953\"], [0.7777777777777778, \"#fb9f3a\"], [0.8888888888888888, \"#fdca26\"], [1.0, \"#f0f921\"]], \"type\": \"surface\"}], \"table\": [{\"cells\": {\"fill\": {\"color\": \"#EBF0F8\"}, \"line\": {\"color\": \"white\"}}, \"header\": {\"fill\": {\"color\": \"#C8D4E3\"}, \"line\": {\"color\": \"white\"}}, \"type\": \"table\"}]}, \"layout\": {\"annotationdefaults\": {\"arrowcolor\": \"#2a3f5f\", \"arrowhead\": 0, \"arrowwidth\": 1}, \"coloraxis\": {\"colorbar\": {\"outlinewidth\": 0, \"ticks\": \"\"}}, \"colorscale\": {\"diverging\": [[0, \"#8e0152\"], [0.1, \"#c51b7d\"], [0.2, \"#de77ae\"], [0.3, \"#f1b6da\"], [0.4, \"#fde0ef\"], [0.5, \"#f7f7f7\"], [0.6, \"#e6f5d0\"], [0.7, \"#b8e186\"], [0.8, \"#7fbc41\"], [0.9, \"#4d9221\"], [1, \"#276419\"]], \"sequential\": [[0.0, \"#0d0887\"], [0.1111111111111111, \"#46039f\"], [0.2222222222222222, \"#7201a8\"], [0.3333333333333333, \"#9c179e\"], [0.4444444444444444, \"#bd3786\"], [0.5555555555555556, \"#d8576b\"], [0.6666666666666666, \"#ed7953\"], [0.7777777777777778, \"#fb9f3a\"], [0.8888888888888888, \"#fdca26\"], [1.0, \"#f0f921\"]], \"sequentialminus\": [[0.0, \"#0d0887\"], [0.1111111111111111, \"#46039f\"], [0.2222222222222222, \"#7201a8\"], [0.3333333333333333, \"#9c179e\"], [0.4444444444444444, \"#bd3786\"], [0.5555555555555556, \"#d8576b\"], [0.6666666666666666, \"#ed7953\"], [0.7777777777777778, \"#fb9f3a\"], [0.8888888888888888, \"#fdca26\"], [1.0, \"#f0f921\"]]}, \"colorway\": [\"#636efa\", \"#EF553B\", \"#00cc96\", \"#ab63fa\", \"#FFA15A\", \"#19d3f3\", \"#FF6692\", \"#B6E880\", \"#FF97FF\", \"#FECB52\"], \"font\": {\"color\": \"#2a3f5f\"}, \"geo\": {\"bgcolor\": \"white\", \"lakecolor\": \"white\", \"landcolor\": \"#E5ECF6\", \"showlakes\": true, \"showland\": true, \"subunitcolor\": \"white\"}, \"hoverlabel\": {\"align\": \"left\"}, \"hovermode\": \"closest\", \"mapbox\": {\"style\": \"light\"}, \"paper_bgcolor\": \"white\", \"plot_bgcolor\": \"#E5ECF6\", \"polar\": {\"angularaxis\": {\"gridcolor\": \"white\", \"linecolor\": \"white\", \"ticks\": \"\"}, \"bgcolor\": \"#E5ECF6\", \"radialaxis\": {\"gridcolor\": \"white\", \"linecolor\": \"white\", \"ticks\": \"\"}}, \"scene\": {\"xaxis\": {\"backgroundcolor\": \"#E5ECF6\", \"gridcolor\": \"white\", \"gridwidth\": 2, \"linecolor\": \"white\", \"showbackground\": true, \"ticks\": \"\", \"zerolinecolor\": \"white\"}, \"yaxis\": {\"backgroundcolor\": \"#E5ECF6\", \"gridcolor\": \"white\", \"gridwidth\": 2, \"linecolor\": \"white\", \"showbackground\": true, \"ticks\": \"\", \"zerolinecolor\": \"white\"}, \"zaxis\": {\"backgroundcolor\": \"#E5ECF6\", \"gridcolor\": \"white\", \"gridwidth\": 2, \"linecolor\": \"white\", \"showbackground\": true, \"ticks\": \"\", \"zerolinecolor\": \"white\"}}, \"shapedefaults\": {\"line\": {\"color\": \"#2a3f5f\"}}, \"ternary\": {\"aaxis\": {\"gridcolor\": \"white\", \"linecolor\": \"white\", \"ticks\": \"\"}, \"baxis\": {\"gridcolor\": \"white\", \"linecolor\": \"white\", \"ticks\": \"\"}, \"bgcolor\": \"#E5ECF6\", \"caxis\": {\"gridcolor\": \"white\", \"linecolor\": \"white\", \"ticks\": \"\"}}, \"title\": {\"x\": 0.05}, \"xaxis\": {\"automargin\": true, \"gridcolor\": \"white\", \"linecolor\": \"white\", \"ticks\": \"\", \"title\": {\"standoff\": 15}, \"zerolinecolor\": \"white\", \"zerolinewidth\": 2}, \"yaxis\": {\"automargin\": true, \"gridcolor\": \"white\", \"linecolor\": \"white\", \"ticks\": \"\", \"title\": {\"standoff\": 15}, \"zerolinecolor\": \"white\", \"zerolinewidth\": 2}}}, \"title\": {\"font\": {\"color\": \"#4D5663\"}, \"text\": \"Price and satisfaction level correlation estimation\"}, \"xaxis\": {\"gridcolor\": \"#E1E5ED\", \"showgrid\": true, \"tickfont\": {\"color\": \"#4D5663\"}, \"title\": {\"font\": {\"color\": \"#4D5663\"}, \"text\": \"Overall_satisfaction\"}, \"zerolinecolor\": \"#E1E5ED\"}, \"yaxis\": {\"gridcolor\": \"#E1E5ED\", \"showgrid\": true, \"tickfont\": {\"color\": \"#4D5663\"}, \"title\": {\"font\": {\"color\": \"#4D5663\"}, \"text\": \"Price\"}, \"zerolinecolor\": \"#E1E5ED\"}},                        {\"showLink\": true, \"linkText\": \"Export to plot.ly\", \"plotlyServerURL\": \"https://plot.ly\", \"responsive\": true}                    ).then(function(){\n",
       "                            \n",
       "var gd = document.getElementById('f65cb02d-bfcd-4937-bf94-a72b3891a617');\n",
       "var x = new MutationObserver(function (mutations, observer) {{\n",
       "        var display = window.getComputedStyle(gd).display;\n",
       "        if (!display || display === 'none') {{\n",
       "            console.log([gd, 'removed!']);\n",
       "            Plotly.purge(gd);\n",
       "            observer.disconnect();\n",
       "        }}\n",
       "}});\n",
       "\n",
       "// Listen for the removal of the full notebook cells\n",
       "var notebookContainer = gd.closest('#notebook-container');\n",
       "if (notebookContainer) {{\n",
       "    x.observe(notebookContainer, {childList: true});\n",
       "}}\n",
       "\n",
       "// Listen for the clearing of the current output cell\n",
       "var outputEl = gd.closest('.output');\n",
       "if (outputEl) {{\n",
       "    x.observe(outputEl, {childList: true});\n",
       "}}\n",
       "\n",
       "                        })                };                });            </script>        </div>"
      ]
     },
     "metadata": {},
     "output_type": "display_data"
    }
   ],
   "source": [
    "#plotting price against overall_satisfaction from df_sub2\n",
    "import matplotlib.pyplot as plt\n",
    "import numpy as np\n",
    "import chart_studio.plotly as py\n",
    "import cufflinks as cf\n",
    "import seaborn as sns\n",
    "import plotly.express as px\n",
    "\n",
    "%matplotlib inline\n",
    "\n",
    "\n",
    "from plotly.offline import download_plotlyjs, init_notebook_mode,plot, iplot\n",
    "\n",
    "init_notebook_mode(connected=True)\n",
    "\n",
    "cf.go_offline()\n",
    "\n",
    "(df_sub2\n",
    "     .groupby(['overall_satisfaction'])\n",
    "     ['price']\n",
    "     .mean()).iplot(title=\"Price and satisfaction level correlation estimation\",xaxis_title='Overall_satisfaction',yaxis_title='Price')\n",
    "\n",
    "\n",
    "\n",
    "\n",
    "     \n"
   ]
  },
  {
   "cell_type": "code",
   "execution_count": 16,
   "metadata": {
    "ExecuteTime": {
     "end_time": "2020-12-09T06:43:35.489497Z",
     "start_time": "2020-12-09T06:43:35.483497Z"
    }
   },
   "outputs": [
    {
     "data": {
      "text/plain": [
       "(2557, 7)"
      ]
     },
     "execution_count": 16,
     "metadata": {},
     "output_type": "execute_result"
    }
   ],
   "source": [
    "# number of columns and rows of second subset\n",
    "df_sub2.shape"
   ]
  },
  {
   "cell_type": "code",
   "execution_count": 17,
   "metadata": {
    "ExecuteTime": {
     "end_time": "2020-12-09T06:43:35.626545Z",
     "start_time": "2020-12-09T06:43:35.491487Z"
    }
   },
   "outputs": [],
   "source": [
    "#pip install plotly pip install cufflinks"
   ]
  },
  {
   "cell_type": "code",
   "execution_count": null,
   "metadata": {},
   "outputs": [],
   "source": []
  },
  {
   "cell_type": "code",
   "execution_count": 18,
   "metadata": {
    "ExecuteTime": {
     "end_time": "2020-12-09T06:43:35.815561Z",
     "start_time": "2020-12-09T06:43:35.630541Z"
    }
   },
   "outputs": [
    {
     "data": {
      "text/html": [
       "<div>\n",
       "<style scoped>\n",
       "    .dataframe tbody tr th:only-of-type {\n",
       "        vertical-align: middle;\n",
       "    }\n",
       "\n",
       "    .dataframe tbody tr th {\n",
       "        vertical-align: top;\n",
       "    }\n",
       "\n",
       "    .dataframe thead th {\n",
       "        text-align: right;\n",
       "    }\n",
       "</style>\n",
       "<table border=\"1\" class=\"dataframe\">\n",
       "  <thead>\n",
       "    <tr style=\"text-align: right;\">\n",
       "      <th></th>\n",
       "      <th>room_id</th>\n",
       "      <th>host_id</th>\n",
       "      <th>last_modified</th>\n",
       "      <th>latitude</th>\n",
       "      <th>longitude</th>\n",
       "      <th>location</th>\n",
       "      <th>price</th>\n",
       "    </tr>\n",
       "  </thead>\n",
       "  <tbody>\n",
       "    <tr>\n",
       "      <td>0</td>\n",
       "      <td>794866</td>\n",
       "      <td>2280409</td>\n",
       "      <td>2017-04-29 12:27:58.139205</td>\n",
       "      <td>6.230980</td>\n",
       "      <td>80.056247</td>\n",
       "      <td>0101000020E6100000E15F048D99035440CD1E680586EC...</td>\n",
       "      <td>300.0</td>\n",
       "    </tr>\n",
       "    <tr>\n",
       "      <td>1</td>\n",
       "      <td>16313193</td>\n",
       "      <td>106602376</td>\n",
       "      <td>2017-04-29 12:27:49.611334</td>\n",
       "      <td>6.267283</td>\n",
       "      <td>81.297854</td>\n",
       "      <td>0101000020E6100000E63E390A10535440691B7FA2B211...</td>\n",
       "      <td>180.0</td>\n",
       "    </tr>\n",
       "    <tr>\n",
       "      <td>2</td>\n",
       "      <td>4804124</td>\n",
       "      <td>2515276</td>\n",
       "      <td>2017-04-29 12:27:49.579004</td>\n",
       "      <td>6.265228</td>\n",
       "      <td>81.231154</td>\n",
       "      <td>0101000020E6100000BC95253ACB4E544017EFC7ED970F...</td>\n",
       "      <td>186.0</td>\n",
       "    </tr>\n",
       "    <tr>\n",
       "      <td>3</td>\n",
       "      <td>3096002</td>\n",
       "      <td>2280409</td>\n",
       "      <td>2017-04-29 12:27:47.835733</td>\n",
       "      <td>6.817018</td>\n",
       "      <td>81.081622</td>\n",
       "      <td>0101000020E610000095287B4B394554402BF9D85DA044...</td>\n",
       "      <td>190.0</td>\n",
       "    </tr>\n",
       "    <tr>\n",
       "      <td>4</td>\n",
       "      <td>6718419</td>\n",
       "      <td>27260251</td>\n",
       "      <td>2017-04-29 12:27:47.810019</td>\n",
       "      <td>6.130373</td>\n",
       "      <td>80.108414</td>\n",
       "      <td>0101000020E61000006D1B4641F00654402920ED7F8085...</td>\n",
       "      <td>190.0</td>\n",
       "    </tr>\n",
       "  </tbody>\n",
       "</table>\n",
       "</div>"
      ],
      "text/plain": [
       "    room_id    host_id               last_modified  latitude  longitude  \\\n",
       "0    794866    2280409  2017-04-29 12:27:58.139205  6.230980  80.056247   \n",
       "1  16313193  106602376  2017-04-29 12:27:49.611334  6.267283  81.297854   \n",
       "2   4804124    2515276  2017-04-29 12:27:49.579004  6.265228  81.231154   \n",
       "3   3096002    2280409  2017-04-29 12:27:47.835733  6.817018  81.081622   \n",
       "4   6718419   27260251  2017-04-29 12:27:47.810019  6.130373  80.108414   \n",
       "\n",
       "                                            location  price  \n",
       "0  0101000020E6100000E15F048D99035440CD1E680586EC...  300.0  \n",
       "1  0101000020E6100000E63E390A10535440691B7FA2B211...  180.0  \n",
       "2  0101000020E6100000BC95253ACB4E544017EFC7ED970F...  186.0  \n",
       "3  0101000020E610000095287B4B394554402BF9D85DA044...  190.0  \n",
       "4  0101000020E61000006D1B4641F00654402920ED7F8085...  190.0  "
      ]
     },
     "execution_count": 18,
     "metadata": {},
     "output_type": "execute_result"
    }
   ],
   "source": [
    "df_sub3=df_1[['room_id','host_id','last_modified','latitude','longitude','location','price']]\n",
    "\n",
    "df_sub3.head()"
   ]
  },
  {
   "cell_type": "code",
   "execution_count": null,
   "metadata": {},
   "outputs": [],
   "source": []
  },
  {
   "cell_type": "code",
   "execution_count": 19,
   "metadata": {
    "ExecuteTime": {
     "end_time": "2020-12-09T06:43:36.080752Z",
     "start_time": "2020-12-09T06:43:35.820555Z"
    }
   },
   "outputs": [
    {
     "data": {
      "text/html": [
       "<div>\n",
       "<style scoped>\n",
       "    .dataframe tbody tr th:only-of-type {\n",
       "        vertical-align: middle;\n",
       "    }\n",
       "\n",
       "    .dataframe tbody tr th {\n",
       "        vertical-align: top;\n",
       "    }\n",
       "\n",
       "    .dataframe thead th {\n",
       "        text-align: right;\n",
       "    }\n",
       "</style>\n",
       "<table border=\"1\" class=\"dataframe\">\n",
       "  <thead>\n",
       "    <tr style=\"text-align: right;\">\n",
       "      <th></th>\n",
       "      <th>room_id</th>\n",
       "      <th>host_id</th>\n",
       "      <th>room_type</th>\n",
       "      <th>borough</th>\n",
       "      <th>neighborhood</th>\n",
       "      <th>price</th>\n",
       "      <th>reviews</th>\n",
       "      <th>overall_satisfaction</th>\n",
       "      <th>accommodates</th>\n",
       "      <th>bedrooms</th>\n",
       "      <th>last_modified</th>\n",
       "      <th>latitude</th>\n",
       "      <th>longitude</th>\n",
       "      <th>location</th>\n",
       "    </tr>\n",
       "  </thead>\n",
       "  <tbody>\n",
       "    <tr>\n",
       "      <td>0</td>\n",
       "      <td>794866</td>\n",
       "      <td>2280409</td>\n",
       "      <td>Private room</td>\n",
       "      <td>Galle</td>\n",
       "      <td>Ambalangoda</td>\n",
       "      <td>300.0</td>\n",
       "      <td>5</td>\n",
       "      <td>4.5</td>\n",
       "      <td>9</td>\n",
       "      <td>1.0</td>\n",
       "      <td>2017-04-29 12:27:58.139205</td>\n",
       "      <td>6.230980</td>\n",
       "      <td>80.056247</td>\n",
       "      <td>0101000020E6100000E15F048D99035440CD1E680586EC...</td>\n",
       "    </tr>\n",
       "    <tr>\n",
       "      <td>1</td>\n",
       "      <td>16313193</td>\n",
       "      <td>106602376</td>\n",
       "      <td>Private room</td>\n",
       "      <td>Hambantota</td>\n",
       "      <td>Thissamaharama</td>\n",
       "      <td>180.0</td>\n",
       "      <td>3</td>\n",
       "      <td>5.0</td>\n",
       "      <td>3</td>\n",
       "      <td>1.0</td>\n",
       "      <td>2017-04-29 12:27:49.611334</td>\n",
       "      <td>6.267283</td>\n",
       "      <td>81.297854</td>\n",
       "      <td>0101000020E6100000E63E390A10535440691B7FA2B211...</td>\n",
       "    </tr>\n",
       "    <tr>\n",
       "      <td>2</td>\n",
       "      <td>4804124</td>\n",
       "      <td>2515276</td>\n",
       "      <td>Private room</td>\n",
       "      <td>Hambantota</td>\n",
       "      <td>Thissamaharama</td>\n",
       "      <td>186.0</td>\n",
       "      <td>3</td>\n",
       "      <td>4.0</td>\n",
       "      <td>10</td>\n",
       "      <td>1.0</td>\n",
       "      <td>2017-04-29 12:27:49.579004</td>\n",
       "      <td>6.265228</td>\n",
       "      <td>81.231154</td>\n",
       "      <td>0101000020E6100000BC95253ACB4E544017EFC7ED970F...</td>\n",
       "    </tr>\n",
       "    <tr>\n",
       "      <td>3</td>\n",
       "      <td>3096002</td>\n",
       "      <td>2280409</td>\n",
       "      <td>Private room</td>\n",
       "      <td>Badulla</td>\n",
       "      <td>Ella</td>\n",
       "      <td>190.0</td>\n",
       "      <td>4</td>\n",
       "      <td>3.5</td>\n",
       "      <td>3</td>\n",
       "      <td>1.0</td>\n",
       "      <td>2017-04-29 12:27:47.835733</td>\n",
       "      <td>6.817018</td>\n",
       "      <td>81.081622</td>\n",
       "      <td>0101000020E610000095287B4B394554402BF9D85DA044...</td>\n",
       "    </tr>\n",
       "    <tr>\n",
       "      <td>4</td>\n",
       "      <td>6718419</td>\n",
       "      <td>27260251</td>\n",
       "      <td>Private room</td>\n",
       "      <td>Galle</td>\n",
       "      <td>Hikkaduwa</td>\n",
       "      <td>190.0</td>\n",
       "      <td>4</td>\n",
       "      <td>5.0</td>\n",
       "      <td>4</td>\n",
       "      <td>2.0</td>\n",
       "      <td>2017-04-29 12:27:47.810019</td>\n",
       "      <td>6.130373</td>\n",
       "      <td>80.108414</td>\n",
       "      <td>0101000020E61000006D1B4641F00654402920ED7F8085...</td>\n",
       "    </tr>\n",
       "  </tbody>\n",
       "</table>\n",
       "</div>"
      ],
      "text/plain": [
       "    room_id    host_id     room_type     borough    neighborhood  price  \\\n",
       "0    794866    2280409  Private room       Galle     Ambalangoda  300.0   \n",
       "1  16313193  106602376  Private room  Hambantota  Thissamaharama  180.0   \n",
       "2   4804124    2515276  Private room  Hambantota  Thissamaharama  186.0   \n",
       "3   3096002    2280409  Private room     Badulla            Ella  190.0   \n",
       "4   6718419   27260251  Private room       Galle       Hikkaduwa  190.0   \n",
       "\n",
       "   reviews  overall_satisfaction  accommodates  bedrooms  \\\n",
       "0        5                   4.5             9       1.0   \n",
       "1        3                   5.0             3       1.0   \n",
       "2        3                   4.0            10       1.0   \n",
       "3        4                   3.5             3       1.0   \n",
       "4        4                   5.0             4       2.0   \n",
       "\n",
       "                last_modified  latitude  longitude  \\\n",
       "0  2017-04-29 12:27:58.139205  6.230980  80.056247   \n",
       "1  2017-04-29 12:27:49.611334  6.267283  81.297854   \n",
       "2  2017-04-29 12:27:49.579004  6.265228  81.231154   \n",
       "3  2017-04-29 12:27:47.835733  6.817018  81.081622   \n",
       "4  2017-04-29 12:27:47.810019  6.130373  80.108414   \n",
       "\n",
       "                                            location  \n",
       "0  0101000020E6100000E15F048D99035440CD1E680586EC...  \n",
       "1  0101000020E6100000E63E390A10535440691B7FA2B211...  \n",
       "2  0101000020E6100000BC95253ACB4E544017EFC7ED970F...  \n",
       "3  0101000020E610000095287B4B394554402BF9D85DA044...  \n",
       "4  0101000020E61000006D1B4641F00654402920ED7F8085...  "
      ]
     },
     "execution_count": 19,
     "metadata": {},
     "output_type": "execute_result"
    }
   ],
   "source": [
    "#merging both subsets on common three columns(room_id,host_id and price). It retrurns us the original dataset\n",
    "joined = pd.merge(df_sub1, df_sub2,  on=['room_id','host_id','price'])\n",
    "joined = pd.merge(joined, df_sub3, on =['room_id','host_id','price'])\n",
    "\n",
    "joined.head()"
   ]
  },
  {
   "cell_type": "code",
   "execution_count": 32,
   "metadata": {
    "ExecuteTime": {
     "end_time": "2020-12-09T06:53:14.987536Z",
     "start_time": "2020-12-09T06:53:14.980541Z"
    }
   },
   "outputs": [
    {
     "data": {
      "text/plain": [
       "['2017-04-29', '12:27:58.139205']"
      ]
     },
     "execution_count": 32,
     "metadata": {},
     "output_type": "execute_result"
    }
   ],
   "source": [
    "\n",
    "#'2017-04-29 12:27:58.139205'.split(' ')\n"
   ]
  },
  {
   "cell_type": "code",
   "execution_count": null,
   "metadata": {},
   "outputs": [],
   "source": []
  },
  {
   "cell_type": "code",
   "execution_count": null,
   "metadata": {
    "ExecuteTime": {
     "end_time": "2020-12-08T22:12:02.460956Z",
     "start_time": "2020-12-08T22:12:02.439968Z"
    }
   },
   "outputs": [],
   "source": []
  },
  {
   "cell_type": "code",
   "execution_count": null,
   "metadata": {
    "ExecuteTime": {
     "end_time": "2020-12-08T22:11:54.604366Z",
     "start_time": "2020-12-08T22:11:54.584378Z"
    }
   },
   "outputs": [],
   "source": []
  },
  {
   "cell_type": "code",
   "execution_count": null,
   "metadata": {},
   "outputs": [],
   "source": []
  },
  {
   "cell_type": "code",
   "execution_count": null,
   "metadata": {},
   "outputs": [],
   "source": []
  },
  {
   "cell_type": "code",
   "execution_count": null,
   "metadata": {},
   "outputs": [],
   "source": []
  },
  {
   "cell_type": "code",
   "execution_count": null,
   "metadata": {},
   "outputs": [],
   "source": []
  },
  {
   "cell_type": "code",
   "execution_count": null,
   "metadata": {},
   "outputs": [],
   "source": []
  },
  {
   "cell_type": "code",
   "execution_count": null,
   "metadata": {},
   "outputs": [],
   "source": []
  },
  {
   "cell_type": "code",
   "execution_count": null,
   "metadata": {},
   "outputs": [],
   "source": []
  },
  {
   "cell_type": "code",
   "execution_count": null,
   "metadata": {},
   "outputs": [],
   "source": []
  },
  {
   "cell_type": "code",
   "execution_count": null,
   "metadata": {},
   "outputs": [],
   "source": []
  },
  {
   "cell_type": "code",
   "execution_count": null,
   "metadata": {},
   "outputs": [],
   "source": []
  },
  {
   "cell_type": "code",
   "execution_count": null,
   "metadata": {},
   "outputs": [],
   "source": []
  },
  {
   "cell_type": "code",
   "execution_count": null,
   "metadata": {},
   "outputs": [],
   "source": []
  },
  {
   "cell_type": "code",
   "execution_count": null,
   "metadata": {},
   "outputs": [],
   "source": []
  },
  {
   "cell_type": "code",
   "execution_count": null,
   "metadata": {},
   "outputs": [],
   "source": []
  },
  {
   "cell_type": "code",
   "execution_count": null,
   "metadata": {},
   "outputs": [],
   "source": []
  },
  {
   "cell_type": "code",
   "execution_count": null,
   "metadata": {},
   "outputs": [],
   "source": []
  },
  {
   "cell_type": "code",
   "execution_count": null,
   "metadata": {},
   "outputs": [],
   "source": []
  },
  {
   "cell_type": "code",
   "execution_count": null,
   "metadata": {},
   "outputs": [],
   "source": []
  },
  {
   "cell_type": "code",
   "execution_count": null,
   "metadata": {},
   "outputs": [],
   "source": []
  },
  {
   "cell_type": "code",
   "execution_count": null,
   "metadata": {},
   "outputs": [],
   "source": []
  },
  {
   "cell_type": "code",
   "execution_count": null,
   "metadata": {},
   "outputs": [],
   "source": []
  },
  {
   "cell_type": "code",
   "execution_count": null,
   "metadata": {},
   "outputs": [],
   "source": []
  },
  {
   "cell_type": "code",
   "execution_count": 20,
   "metadata": {
    "ExecuteTime": {
     "end_time": "2020-12-09T06:43:36.229700Z",
     "start_time": "2020-12-09T06:43:36.084749Z"
    }
   },
   "outputs": [],
   "source": [
    "\n",
    "\n",
    "\n",
    "\n",
    "#df_1 = df_1['',]\n",
    "\n",
    "#df_1['bedrooms'].unique().shape\n"
   ]
  },
  {
   "cell_type": "code",
   "execution_count": 21,
   "metadata": {
    "ExecuteTime": {
     "end_time": "2020-12-09T06:43:36.452463Z",
     "start_time": "2020-12-09T06:43:36.233700Z"
    }
   },
   "outputs": [],
   "source": [
    "#df_1['borough'].unique().shape"
   ]
  },
  {
   "cell_type": "code",
   "execution_count": 22,
   "metadata": {
    "ExecuteTime": {
     "end_time": "2020-12-09T06:43:36.646207Z",
     "start_time": "2020-12-09T06:43:36.456657Z"
    }
   },
   "outputs": [],
   "source": [
    "#df_1['room_id'].unique().shape"
   ]
  },
  {
   "cell_type": "code",
   "execution_count": 23,
   "metadata": {
    "ExecuteTime": {
     "end_time": "2020-12-09T06:43:36.867499Z",
     "start_time": "2020-12-09T06:43:36.655201Z"
    }
   },
   "outputs": [],
   "source": [
    "#df_1['host_id'].unique().shape"
   ]
  },
  {
   "cell_type": "code",
   "execution_count": 24,
   "metadata": {
    "ExecuteTime": {
     "end_time": "2020-12-09T06:43:37.055229Z",
     "start_time": "2020-12-09T06:43:36.886489Z"
    }
   },
   "outputs": [],
   "source": [
    "#df_1['overall_satisfaction'].unique()"
   ]
  },
  {
   "cell_type": "code",
   "execution_count": 25,
   "metadata": {
    "ExecuteTime": {
     "end_time": "2020-12-09T06:43:37.210556Z",
     "start_time": "2020-12-09T06:43:37.065229Z"
    }
   },
   "outputs": [],
   "source": [
    "#print('how many levels of satisfaction level:',len(df_1['overall_satisfaction'].unique()))"
   ]
  },
  {
   "cell_type": "code",
   "execution_count": 26,
   "metadata": {
    "ExecuteTime": {
     "end_time": "2020-12-09T06:43:37.315519Z",
     "start_time": "2020-12-09T06:43:37.221549Z"
    }
   },
   "outputs": [],
   "source": [
    "#df_1['reviews'].unique()"
   ]
  },
  {
   "cell_type": "code",
   "execution_count": 27,
   "metadata": {
    "ExecuteTime": {
     "end_time": "2020-12-09T06:43:37.451382Z",
     "start_time": "2020-12-09T06:43:37.318514Z"
    }
   },
   "outputs": [],
   "source": [
    "#df_1['bedrooms'].unique()"
   ]
  },
  {
   "cell_type": "code",
   "execution_count": 28,
   "metadata": {
    "ExecuteTime": {
     "end_time": "2020-12-09T06:43:37.848833Z",
     "start_time": "2020-12-09T06:43:37.455378Z"
    }
   },
   "outputs": [
    {
     "data": {
      "image/png": "[encoded data removed]",
      "text/plain": [
       "<Figure size 432x288 with 1 Axes>"
      ]
     },
     "metadata": {
      "needs_background": "light"
     },
     "output_type": "display_data"
    }
   ],
   "source": [
    "#import matplotlib.pyplot as plt\n",
    "# probably don't need the magic anymore\n",
    "#%matplotlib inline\n",
    "\n",
    "#(df_1\n",
    "     #.groupby(['overall_satisfaction'])\n",
    "     #[['price']]\n",
    "     #.mean()\n",
    "     #.plot()\n",
    "#)\n",
    "#plt.show()"
   ]
  },
  {
   "cell_type": "code",
   "execution_count": 29,
   "metadata": {
    "ExecuteTime": {
     "end_time": "2020-12-09T06:43:37.858826Z",
     "start_time": "2020-12-09T06:43:37.852829Z"
    }
   },
   "outputs": [],
   "source": [
    "#%matplotlib inline\n",
    "\n",
    "#(df_sub2\n",
    "    # .groupby(['overall_satisfaction'])\n",
    "    # [['price']]\n",
    "    # .mean()\n",
    "    # .plot()\n",
    "#)\n",
    "#plt.show()"
   ]
  },
  {
   "cell_type": "code",
   "execution_count": null,
   "metadata": {},
   "outputs": [],
   "source": []
  }
 ],
 "metadata": {
  "kernelspec": {
   "display_name": "Python 3",
   "language": "python",
   "name": "python3"
  },
  "language_info": {
   "codemirror_mode": {
    "name": "ipython",
    "version": 3
   },
   "file_extension": ".py",
   "mimetype": "text/x-python",
   "name": "python",
   "nbconvert_exporter": "python",
   "pygments_lexer": "ipython3",
   "version": "3.7.4"
  },
  "varInspector": {
   "cols": {
    "lenName": 16,
    "lenType": 16,
    "lenVar": 40
   },
   "kernels_config": {
    "python": {
     "delete_cmd_postfix": "",
     "delete_cmd_prefix": "del ",
     "library": "var_list.py",
     "varRefreshCmd": "print(var_dic_list())"
    },
    "r": {
     "delete_cmd_postfix": ") ",
     "delete_cmd_prefix": "rm(",
     "library": "var_list.r",
     "varRefreshCmd": "cat(var_dic_list()) "
    }
   },
   "types_to_exclude": [
    "module",
    "function",
    "builtin_function_or_method",
    "instance",
    "_Feature"
   ],
   "window_display": false
  }
 },
 "nbformat": 4,
 "nbformat_minor": 4
}
